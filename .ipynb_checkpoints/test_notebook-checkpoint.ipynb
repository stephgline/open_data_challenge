{
 "cells": [
  {
   "cell_type": "code",
   "execution_count": 1,
   "metadata": {
    "collapsed": true
   },
   "outputs": [],
   "source": [
    "import pandas as pd\n",
    "from pandas.io.gbq import read_gbq\n",
    "import numpy as np\n",
    "import seaborn as sns\n",
    "import matplotlib.pyplot as plt"
   ]
  },
  {
   "cell_type": "markdown",
   "metadata": {},
   "source": [
    "## The general challenge is to look at how extreme weather affects 311 service requests: First we have to define and identify extreme weather. Second we have to look how extreme weather events affect 311 request types and volume. Lastly, can we predict call/complaint volume for extreme weather events such as high/low temperature, snow, rain etc. ?"
   ]
  },
  {
   "cell_type": "code",
   "execution_count": 2,
   "metadata": {
    "collapsed": false
   },
   "outputs": [
    {
     "name": "stdout",
     "output_type": "stream",
     "text": [
      "Requesting query... ok.\n",
      "Query running...\n",
      "Query done.\n",
      "Processed: 2.6 Gb\n",
      "\n",
      "Retrieving results...\n",
      "Got 1726 rows.\n",
      "\n",
      "Total time taken 3.9 s.\n",
      "Finished at 2017-09-23 17:13:03.\n"
     ]
    }
   ],
   "source": [
    "#let's look at the data! start with weather data: pull for 2010-2017 for the central park station\n",
    "query = \"SELECT DATE(CAST(year AS INT64), CAST(mo AS INT64), CAST(da AS INT64)) as created_date, temp, wdsp, mxpsd, gust, max, min, prcp, sndp, snow_ice_pellets FROM `bigquery-public-data.noaa_gsod.gsod20*` WHERE _TABLE_SUFFIX BETWEEN '10' AND '17' AND stn = '725053' AND wban = '94728'\"\n",
    "weather = read_gbq(query=query, project_id='opendataproject-180502', dialect='standard')"
   ]
  },
  {
   "cell_type": "markdown",
   "metadata": {},
   "source": [
    "pd.set_option(\"display.max_columns\",1001)"
   ]
  },
  {
   "cell_type": "code",
   "execution_count": 3,
   "metadata": {
    "collapsed": false
   },
   "outputs": [
    {
     "data": {
      "text/html": [
       "<div>\n",
       "<table border=\"1\" class=\"dataframe\">\n",
       "  <thead>\n",
       "    <tr style=\"text-align: right;\">\n",
       "      <th></th>\n",
       "      <th>created_date</th>\n",
       "      <th>temp</th>\n",
       "      <th>wdsp</th>\n",
       "      <th>mxpsd</th>\n",
       "      <th>gust</th>\n",
       "      <th>max</th>\n",
       "      <th>min</th>\n",
       "      <th>prcp</th>\n",
       "      <th>sndp</th>\n",
       "      <th>snow_ice_pellets</th>\n",
       "    </tr>\n",
       "  </thead>\n",
       "  <tbody>\n",
       "    <tr>\n",
       "      <th>0</th>\n",
       "      <td>2015-12-25</td>\n",
       "      <td>62.0</td>\n",
       "      <td>0.7</td>\n",
       "      <td>4.1</td>\n",
       "      <td>999.9</td>\n",
       "      <td>72.0</td>\n",
       "      <td>57.0</td>\n",
       "      <td>0.01</td>\n",
       "      <td>999.9</td>\n",
       "      <td>0</td>\n",
       "    </tr>\n",
       "    <tr>\n",
       "      <th>1</th>\n",
       "      <td>2017-09-12</td>\n",
       "      <td>69.0</td>\n",
       "      <td>0.8</td>\n",
       "      <td>4.1</td>\n",
       "      <td>999.9</td>\n",
       "      <td>78.1</td>\n",
       "      <td>55.0</td>\n",
       "      <td>0.00</td>\n",
       "      <td>999.9</td>\n",
       "      <td>0</td>\n",
       "    </tr>\n",
       "    <tr>\n",
       "      <th>2</th>\n",
       "      <td>2015-09-06</td>\n",
       "      <td>74.1</td>\n",
       "      <td>1.0</td>\n",
       "      <td>4.1</td>\n",
       "      <td>999.9</td>\n",
       "      <td>87.1</td>\n",
       "      <td>64.9</td>\n",
       "      <td>0.00</td>\n",
       "      <td>999.9</td>\n",
       "      <td>0</td>\n",
       "    </tr>\n",
       "    <tr>\n",
       "      <th>3</th>\n",
       "      <td>2015-09-16</td>\n",
       "      <td>75.8</td>\n",
       "      <td>1.5</td>\n",
       "      <td>4.1</td>\n",
       "      <td>999.9</td>\n",
       "      <td>88.0</td>\n",
       "      <td>62.1</td>\n",
       "      <td>0.00</td>\n",
       "      <td>999.9</td>\n",
       "      <td>0</td>\n",
       "    </tr>\n",
       "    <tr>\n",
       "      <th>4</th>\n",
       "      <td>2013-08-17</td>\n",
       "      <td>72.6</td>\n",
       "      <td>1.6</td>\n",
       "      <td>4.1</td>\n",
       "      <td>999.9</td>\n",
       "      <td>84.0</td>\n",
       "      <td>64.0</td>\n",
       "      <td>0.00</td>\n",
       "      <td>999.9</td>\n",
       "      <td>0</td>\n",
       "    </tr>\n",
       "  </tbody>\n",
       "</table>\n",
       "</div>"
      ],
      "text/plain": [
       "  created_date  temp wdsp mxpsd   gust   max   min  prcp   sndp  \\\n",
       "0   2015-12-25  62.0  0.7   4.1  999.9  72.0  57.0  0.01  999.9   \n",
       "1   2017-09-12  69.0  0.8   4.1  999.9  78.1  55.0  0.00  999.9   \n",
       "2   2015-09-06  74.1  1.0   4.1  999.9  87.1  64.9  0.00  999.9   \n",
       "3   2015-09-16  75.8  1.5   4.1  999.9  88.0  62.1  0.00  999.9   \n",
       "4   2013-08-17  72.6  1.6   4.1  999.9  84.0  64.0  0.00  999.9   \n",
       "\n",
       "  snow_ice_pellets  \n",
       "0                0  \n",
       "1                0  \n",
       "2                0  \n",
       "3                0  \n",
       "4                0  "
      ]
     },
     "execution_count": 3,
     "metadata": {},
     "output_type": "execute_result"
    }
   ],
   "source": [
    "weather.head()"
   ]
  },
  {
   "cell_type": "code",
   "execution_count": 7,
   "metadata": {
    "collapsed": false
   },
   "outputs": [
    {
     "name": "stdout",
     "output_type": "stream",
     "text": [
      "Requesting query... ok.\n",
      "Query running...\n",
      "Query done.\n",
      "Processed: 517.8 Mb\n",
      "\n",
      "Retrieving results...\n",
      "  Got page: 1; 28% done. Elapsed 14.51 s.\n",
      "  Got page: 2; 55% done. Elapsed 18.95 s.\n",
      "  Got page: 3; 83% done. Elapsed 24.2 s.\n",
      "  Got page: 4; 100% done. Elapsed 27.66 s.\n",
      "Got 362184 rows.\n",
      "\n",
      "Total time taken 29.75 s.\n",
      "Finished at 2017-09-23 17:27:05.\n"
     ]
    }
   ],
   "source": [
    "#do some aggregating for simplicty\n",
    "query = \"\"\"SELECT DATE(created_date) AS `created_date`, complaint_type, count(unique_key) AS `count_n`\n",
    "FROM `bigquery-public-data.new_york.311_service_requests`\n",
    "GROUP BY DATE(created_date), complaint_type\"\"\"\n",
    "dfcounts = read_gbq(query=query, project_id='opendataproject-180502', dialect='standard')"
   ]
  },
  {
   "cell_type": "code",
   "execution_count": 8,
   "metadata": {
    "collapsed": false
   },
   "outputs": [
    {
     "data": {
      "text/html": [
       "<div>\n",
       "<table border=\"1\" class=\"dataframe\">\n",
       "  <thead>\n",
       "    <tr style=\"text-align: right;\">\n",
       "      <th></th>\n",
       "      <th>created_date</th>\n",
       "      <th>complaint_type</th>\n",
       "      <th>count_n</th>\n",
       "    </tr>\n",
       "  </thead>\n",
       "  <tbody>\n",
       "    <tr>\n",
       "      <th>0</th>\n",
       "      <td>2010-08-06</td>\n",
       "      <td>Overgrown Tree/Branches</td>\n",
       "      <td>61</td>\n",
       "    </tr>\n",
       "    <tr>\n",
       "      <th>1</th>\n",
       "      <td>2010-04-01</td>\n",
       "      <td>Traffic/Illegal Parking</td>\n",
       "      <td>61</td>\n",
       "    </tr>\n",
       "    <tr>\n",
       "      <th>2</th>\n",
       "      <td>2017-02-17</td>\n",
       "      <td>Benefit Card Replacement</td>\n",
       "      <td>61</td>\n",
       "    </tr>\n",
       "    <tr>\n",
       "      <th>3</th>\n",
       "      <td>2016-11-04</td>\n",
       "      <td>Benefit Card Replacement</td>\n",
       "      <td>61</td>\n",
       "    </tr>\n",
       "    <tr>\n",
       "      <th>4</th>\n",
       "      <td>2015-02-13</td>\n",
       "      <td>Benefit Card Replacement</td>\n",
       "      <td>61</td>\n",
       "    </tr>\n",
       "  </tbody>\n",
       "</table>\n",
       "</div>"
      ],
      "text/plain": [
       "  created_date            complaint_type  count_n\n",
       "0   2010-08-06   Overgrown Tree/Branches       61\n",
       "1   2010-04-01   Traffic/Illegal Parking       61\n",
       "2   2017-02-17  Benefit Card Replacement       61\n",
       "3   2016-11-04  Benefit Card Replacement       61\n",
       "4   2015-02-13  Benefit Card Replacement       61"
      ]
     },
     "execution_count": 8,
     "metadata": {},
     "output_type": "execute_result"
    }
   ],
   "source": [
    "dfcounts.head()"
   ]
  },
  {
   "cell_type": "code",
   "execution_count": 10,
   "metadata": {
    "collapsed": false
   },
   "outputs": [
    {
     "data": {
      "text/html": [
       "<div>\n",
       "<table border=\"1\" class=\"dataframe\">\n",
       "  <thead>\n",
       "    <tr style=\"text-align: right;\">\n",
       "      <th></th>\n",
       "      <th>created_date</th>\n",
       "      <th>complaint_type</th>\n",
       "      <th>count_n</th>\n",
       "    </tr>\n",
       "  </thead>\n",
       "  <tbody>\n",
       "    <tr>\n",
       "      <th>99176</th>\n",
       "      <td>2017-09-22</td>\n",
       "      <td>Illegal Parking</td>\n",
       "      <td>21</td>\n",
       "    </tr>\n",
       "    <tr>\n",
       "      <th>289674</th>\n",
       "      <td>2017-09-22</td>\n",
       "      <td>School Maintenance</td>\n",
       "      <td>1</td>\n",
       "    </tr>\n",
       "    <tr>\n",
       "      <th>295959</th>\n",
       "      <td>2017-09-22</td>\n",
       "      <td>Street Sign - Damaged</td>\n",
       "      <td>1</td>\n",
       "    </tr>\n",
       "    <tr>\n",
       "      <th>194626</th>\n",
       "      <td>2017-09-22</td>\n",
       "      <td>Rodent</td>\n",
       "      <td>5</td>\n",
       "    </tr>\n",
       "    <tr>\n",
       "      <th>159377</th>\n",
       "      <td>2017-09-22</td>\n",
       "      <td>Noise - Street/Sidewalk</td>\n",
       "      <td>58</td>\n",
       "    </tr>\n",
       "  </tbody>\n",
       "</table>\n",
       "</div>"
      ],
      "text/plain": [
       "       created_date           complaint_type  count_n\n",
       "99176    2017-09-22          Illegal Parking       21\n",
       "289674   2017-09-22       School Maintenance        1\n",
       "295959   2017-09-22    Street Sign - Damaged        1\n",
       "194626   2017-09-22                   Rodent        5\n",
       "159377   2017-09-22  Noise - Street/Sidewalk       58"
      ]
     },
     "execution_count": 10,
     "metadata": {},
     "output_type": "execute_result"
    }
   ],
   "source": [
    "dfcounts.sort_values(['created_date'], ascending = 0).head()"
   ]
  },
  {
   "cell_type": "code",
   "execution_count": null,
   "metadata": {
    "collapsed": true
   },
   "outputs": [],
   "source": []
  }
 ],
 "metadata": {
  "kernelspec": {
   "display_name": "Python 3",
   "language": "python",
   "name": "python3"
  },
  "language_info": {
   "codemirror_mode": {
    "name": "ipython",
    "version": 3
   },
   "file_extension": ".py",
   "mimetype": "text/x-python",
   "name": "python",
   "nbconvert_exporter": "python",
   "pygments_lexer": "ipython3",
   "version": "3.5.2"
  }
 },
 "nbformat": 4,
 "nbformat_minor": 2
}
